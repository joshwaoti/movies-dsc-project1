{
 "cells": [
  {
   "cell_type": "markdown",
   "metadata": {},
   "source": [
    "## Final Project Submission\n",
    "\n",
    "Please fill out:\n",
    "* Student name: \n",
    "* Student pace: self paced / part time / full time\n",
    "* Scheduled project review date/time: \n",
    "* Instructor name: \n",
    "* Blog post URL:\n"
   ]
  },
  {
   "cell_type": "code",
   "execution_count": null,
   "metadata": {},
   "outputs": [],
   "source": [
    "# Your code here - remember to use markdown cells for comments as well!\n",
    "# importing packages\n",
    "import pandas as pd\n",
    "import numpy as np\n",
    "import matplotlib.pyplot as plt\n",
    "import seaborn as sns\n",
    "\n",
    "%matplotlib inline"
   ]
  },
  {
   "cell_type": "code",
   "execution_count": null,
   "metadata": {},
   "outputs": [],
   "source": [
    "# importing the python packages created\n",
    "import code.data_prep as prep\n",
    "import code.visualization as viz"
   ]
  },
  {
   "cell_type": "markdown",
   "metadata": {},
   "source": [
    "### Data preparation\n",
    "\n",
    "Grouping data from all the sources together to  'clean_data' which have title, cost, gross, studio, year.\n",
    "\n",
    "- I dropped most of the variables, except Gross, budget, genres, runtime, studio.\n",
    "- I created ROI and profit based on Gross and Budget.\n",
    "- This approach gives me a high scope of field to work on the data in determining which movies Microsoft should and can make \n"
   ]
  },
  {
   "cell_type": "code",
   "execution_count": null,
   "metadata": {},
   "outputs": [],
   "source": [
    "# bom, tmdb, tn.\n",
    "# Cleaned\n",
    "bom = pd.read_csv(\"data/zippedData/bom.movie_gross.csv\")\n",
    "clean_bom = prep.clean_bom(bom)\n",
    "tmdb_movies = pd.read_csv(\"data/zippedData/tmdb.movies.csv\")\n",
    "clean_tmdb_movies = prep.clean_tmdb_movies(tmdb_movies)\n",
    "tn_movie_budgets = pd.read_csv(\"data/zippedData/tn.movie_budgets.csv\")\n",
    "clean_tn_movie_budgets = prep.clean_tn_movie_budgets(tn_movie_budgets)\n",
    "\n",
    "# read rt file\n",
    "# cleaned\n",
    "rt_info = pd.read_csv(\"data/zippedData/rt.movie_info.tsv\", sep='\\t')\n",
    "rt_reviews = pd.read_csv(\"data/zippedData/rt.reviews.tsv\", sep='\\t', encoding='unicode_escape')\n",
    "rt_something = rt_info.groupby(['genre','runtime','theater_date']).size().reset_index().rename(columns={0:'count'})\n",
    "clean_rt_info = prep.clean_rt_info(rt_info)\n",
    "\n",
    "# read imdb file\n",
    "imdb_name_basics = pd.read_csv(\"data/zippedData/name.basics.csv\")\n",
    "imdb_title_basics = pd.read_csv(\"data/zippedData/title.basics.csv\")\n",
    "imdb_title_crew = pd.read_csv(\"data/zippedData/title.crew.csv\")\n",
    "imdb_title_ratings = pd.read_csv(\"data/zippedData/title.ratings.csv\")\n",
    "imdb_title_principals = pd.read_csv(\"data/zippedData/title.principals.csv\")"
   ]
  },
  {
   "cell_type": "code",
   "execution_count": null,
   "metadata": {},
   "outputs": [],
   "source": [
    "\n",
    "\n",
    "# joinn tconst: imdb_title_basics, imdb_title_crew, imdb_title_ratings\n",
    "join_imdb_tconst = prep.join_imdb(imdb_title_basics, imdb_title_crew, imdb_title_ratings)\n",
    "\n",
    "# join nconst: imbd_name_basics, imbd_title_principals\n",
    "join_imdb_nconst = imdb_name_basics.set_index('nconst').join(imdb_title_principals.set_index('nconst'), lsuffix=\"_basics\", rsuffix=\"_principals\", how ='inner')\n",
    "\n",
    "# join clean_bom and clean_tn_movie_budgets\n",
    "cleaned_data = prep.join_bom_tn_budgets(clean_bom, clean_tn_movie_budgets)\n",
    "\n",
    "# join data: single rescurce complete\n",
    "cleaned_data = cleaned_data.join(clean_tmdb_movies, lsuffix=\"_cleaned_data\", rsuffix=\"_tmdb\", how ='inner')\n",
    "\n",
    "# Join join_imdb_tconst and cleaned_data\n",
    "cleaned_data = prep.join_imdb_tconst_cleaned_data(join_imdb_tconst, cleaned_data)\n",
    "\n",
    "# # Create new Column 'ROI', 'profit_status'\n",
    "cleaned_data = prep.create_column(cleaned_data)"
   ]
  },
  {
   "cell_type": "code",
   "execution_count": null,
   "metadata": {},
   "outputs": [],
   "source": [
    "# visualizing profitability of the movies, the logic is in the visualization.py package\n",
    "viz.profitability_movies(cleaned_data)"
   ]
  },
  {
   "cell_type": "markdown",
   "metadata": {},
   "source": [
    "The first question answered by this is that making movies makes money. So generally we can say making movies makes money."
   ]
  },
  {
   "cell_type": "code",
   "execution_count": null,
   "metadata": {},
   "outputs": [],
   "source": [
    "# pie chart illustrating this\n",
    "viz.number_movie_pie(cleaned_data)"
   ]
  },
  {
   "cell_type": "code",
   "execution_count": null,
   "metadata": {},
   "outputs": [],
   "source": [
    "viz.worldwide_gross_pie(cleaned_data)"
   ]
  },
  {
   "cell_type": "code",
   "execution_count": null,
   "metadata": {},
   "outputs": [],
   "source": [
    "viz.production_budget_pie(cleaned_data)"
   ]
  },
  {
   "cell_type": "code",
   "execution_count": null,
   "metadata": {},
   "outputs": [],
   "source": [
    "viz.movies_profit(cleaned_data)"
   ]
  },
  {
   "cell_type": "markdown",
   "metadata": {},
   "source": [
    "We can also check whether higher vote_average means higher ROI\n"
   ]
  },
  {
   "cell_type": "code",
   "execution_count": null,
   "metadata": {},
   "outputs": [],
   "source": [
    "viz.vote(cleaned_data)"
   ]
  },
  {
   "cell_type": "code",
   "execution_count": null,
   "metadata": {},
   "outputs": [],
   "source": [
    "# Correlation between ROI and vote_average is weak though it's on the negative side"
   ]
  },
  {
   "cell_type": "markdown",
   "metadata": {},
   "source": [
    "Does higher runtime mean higher ROI?\n"
   ]
  },
  {
   "cell_type": "code",
   "execution_count": null,
   "metadata": {},
   "outputs": [],
   "source": [
    "viz.runtime(cleaned_data.loc[cleaned_data['runtime_minutes'] > 70])"
   ]
  },
  {
   "cell_type": "code",
   "execution_count": null,
   "metadata": {},
   "outputs": [],
   "source": [
    "# No, shorter moveis according to the chart makes more money than elongated movies."
   ]
  },
  {
   "cell_type": "code",
   "execution_count": null,
   "metadata": {},
   "outputs": [],
   "source": [
    "# bin_summary, quantile_cutoffs, ax = viz.column_quantile_analysis(cleaned_data, \"runtime_minutes\")\n",
    "# quantile_cutoffs\n",
    "bin_summary, roi_ax, profit_ax = viz.column_quantile_analysis2(cleaned_data, \"runtime_minutes\")\n",
    "roi_ax.set_title(\"Overall: Return on Investment(ROI) vs Movie Runtime Analysis\")\n",
    "roi_ax.axhline(viz.calculate_average_roi(cleaned_data), ls='--', color ='black')\n",
    "profit_ax.set_title(\"Overall: Profit vs Movie Runtime Analysis\")"
   ]
  },
  {
   "cell_type": "code",
   "execution_count": null,
   "metadata": {},
   "outputs": [],
   "source": [
    "# set range\n",
    "lb = cleaned_data[(cleaned_data[\"production_budget\"] < 5.57e6) & (cleaned_data[\"production_budget\"] > 1e6)]\n",
    "lb_sm = lb[lb[\"runtime_minutes\"] < 90]\n",
    "lb_lm = lb[lb[\"runtime_minutes\"] >118]\n",
    "\n",
    "hb = cleaned_data[(cleaned_data[\"production_budget\"] > 5.8e7)]\n",
    "hb_sm = hb[hb[\"runtime_minutes\"] < 98]\n",
    "hb_lm = hb[hb[\"runtime_minutes\"] > 132]\n",
    "\n",
    "sm = cleaned_data[(cleaned_data[\"runtime_minutes\"] < 95)]\n",
    "lm = cleaned_data[(cleaned_data[\"runtime_minutes\"] > 128)]"
   ]
  },
  {
   "cell_type": "code",
   "execution_count": null,
   "metadata": {},
   "outputs": [],
   "source": [
    "# % of high budget movie profit in all profit\n",
    "hb['profit'].sum()/cleaned_data['profit'].sum()"
   ]
  },
  {
   "cell_type": "code",
   "execution_count": null,
   "metadata": {},
   "outputs": [],
   "source": [
    "Why does shorter runtime mean higher ROI?\n",
    "# Hypothesis: Lower cost for shorter movies; similar profit.\n",
    "viz.cost(cleaned_data)\n",
    "# Result: Smaller movies do have lower cost, but also have lower profit."
   ]
  },
  {
   "cell_type": "code",
   "execution_count": null,
   "metadata": {},
   "outputs": [],
   "source": [
    "Can we see a direct relationship between budget and ROI?\n",
    "viz.budget_roi(cleaned_data)\n",
    "# Result: Big budget movies tend to do worse than low budget movies, per $ invested."
   ]
  },
  {
   "cell_type": "code",
   "execution_count": null,
   "metadata": {},
   "outputs": [],
   "source": [
    "# making the trend more solid\n",
    "\n",
    "# Assign data to bins based on production budget quantile\n",
    "\n",
    "bin_summary, roi_ax, profit_ax = viz.column_quantile_analysis2(cleaned_data, \"production_budget\", num_quantiles=10, format_string=\".2e\")\n",
    "#bin_summary = column_quantile_analysis2(cleaned_data, \"production_budget\", num_quantiles=10)\n",
    "\n",
    "bin_summary\n",
    "\n",
    "roi_ax.set_title(\"Overall: Return on Investment(ROI) vs Production Budget Analysis\")\n",
    "roi_ax.axhline(viz.calculate_average_roi(cleaned_data), ls='--', color ='black')\n",
    "\n",
    "profit_ax.set_title(\"Overall: Profit vs Production Budget Analysis\")\n",
    "#roi_ax.axhline(viz.calculate_average_roi(cleaned_data), ls='--', color ='black')\n",
    "# Result: Middle of the pack movies are definitely the worst, sporting a ROI of barely 1.2, \n",
    "# less than half of what we could get making a movie with a 20-30 percentile budget (ROI 2.6), or a 90-100 percentile budget(ROI 2.5)\n",
    "# Again, dirt cheap movies tend to be even better, but may worsen our brand.\n"
   ]
  },
  {
   "cell_type": "code",
   "execution_count": null,
   "metadata": {},
   "outputs": [],
   "source": [
    "# Low budget movie\n",
    "# The movie runtime should less than 89 minunts.\n",
    "bin_summary, roi_ax, profit_ax = viz.column_quantile_analysis2(lb, \"runtime_minutes\")\n",
    "bin_summary\n",
    "\n",
    "roi_ax.set_title(\"Low Budget: Return on Investment(ROI) vs Production Budget Analysis\")\n",
    "roi_ax.axhline(viz.calculate_average_roi(cleaned_data), ls='--', color ='black')\n",
    "\n",
    "profit_ax.set_title(\"Low Budget: Profit vs Production Budget Analysis\")"
   ]
  },
  {
   "cell_type": "code",
   "execution_count": null,
   "metadata": {},
   "outputs": [],
   "source": [
    "# High budget movie\n",
    "# The movie should either less than 98 minunts or longer than 132 minunts\n",
    "bin_summary, roi_ax, profit_ax = viz.column_quantile_analysis2(hb, \"runtime_minutes\")\n",
    "bin_summary\n",
    "\n",
    "roi_ax.set_title(\"High Budget: Return on Investment(ROI) vs Production Budget Analysis\")\n",
    "roi_ax.axhline(viz.calculate_average_roi(cleaned_data), ls='--', color ='black')\n",
    "\n",
    "profit_ax.set_title(\"High Budget: Profit vs Production Budget Analysis\")"
   ]
  },
  {
   "cell_type": "code",
   "execution_count": null,
   "metadata": {},
   "outputs": [],
   "source": [
    "for title, df in [(\"all movies\", cleaned_data),\n",
    "                  (\"short movies\", sm),\n",
    "                  (\"long movies\", lm),\n",
    "                  (\"low budget movies\", lb),\n",
    "                  (\"high budget movies\", hb),\n",
    "                  (\"low budget short movies\", lb_sm),\n",
    "                  (\"low budget long movies\", lb_lm),\n",
    "                  (\"high budget short movies\", hb_sm),\n",
    "                  (\"high budget long movies\", hb_lm)\n",
    "                 ]:\n",
    "    print(f\"The Average vote for {title}: {df['vote_average'].median():.2f}\")\n",
    "\n",
    "print(\"=============================\")\n",
    "for title, df in [(\"all movies\", cleaned_data),\n",
    "                  (\"short movies\", sm),\n",
    "                  (\"long movies\", lm),\n",
    "                  (\"low budget movies\", lb),\n",
    "                  (\"high budget movies\", hb),\n",
    "                  (\"low budget short movies\", lb_sm),\n",
    "                  (\"low budget long movies\",\n",
    "                   lb_lm),\n",
    "                  (\"high budget short movies\", hb_sm),\n",
    "                  (\"high budget long movies\", hb_lm)\n",
    "                 ]:\n",
    "    print(f\" The Average ROI for {title}: {viz.calculate_average_roi(df):.2f}\")"
   ]
  },
  {
   "cell_type": "code",
   "execution_count": null,
   "metadata": {},
   "outputs": [],
   "source": [
    "cleaned_data[cleaned_data[\"genres\"].notnull()].copy().head()"
   ]
  },
  {
   "cell_type": "code",
   "execution_count": null,
   "metadata": {},
   "outputs": [],
   "source": [
    "# For all movies, breakdown by genre\n",
    "cd_copy = cleaned_data[cleaned_data[\"genres\"].notnull()].copy()\n",
    "cd_copy2 = cd_copy.copy()\n",
    "cd_copy[\"genres\"] = cd_copy[\"genres\"].str.split(\",\")\n",
    "vcs = cd_copy.explode(\"genres\")[\"genres\"].value_counts()\n",
    "infrequent_genres = vcs[vcs < 50].index\n",
    "cd_freq_genres_only = cd_copy2[cd_copy2[\"genres\"].str.contains('|'.join(infrequent_genres))== False]"
   ]
  },
  {
   "cell_type": "code",
   "execution_count": null,
   "metadata": {},
   "outputs": [],
   "source": [
    "# For all movies, genre\n",
    "count_ax, roi_ax, profit_ax, avg_roi, counts_and_roi_by_genre = viz.genre(cd_freq_genres_only.copy())\n",
    "count_ax.set_title(\"Overall Movies: Number of Movies vs Genre\")\n",
    "roi_ax.set_title(\"Overall Movies: ROI vs Genre\")\n",
    "profit_ax.set_title(\"Overall Movies: Profit vs Genre\")"
   ]
  },
  {
   "cell_type": "code",
   "execution_count": null,
   "metadata": {},
   "outputs": [],
   "source": [
    "# For long_big_budget_movies, genre\n",
    "count_ax, roi_ax, profit_ax, avg_roi, counts_and_roi_by_genre = viz.genre(hb_lm.copy())\n",
    "count_ax.set_title(\"High Budget Long Movies: Number of Movies vs Genre\")\n",
    "roi_ax.set_title(\"High Budget Long Movies: Overall: ROI vs Genre\")\n",
    "profit_ax.set_title(\"High Budget Long Movies: Profit vs Genre\")\n",
    "print(\"Average ROI across all genres:\", avg_roi)\n",
    "counts_and_roi_by_genre"
   ]
  },
  {
   "cell_type": "code",
   "execution_count": null,
   "metadata": {},
   "outputs": [],
   "source": [
    "# For short_big_budget_movies, genre\n",
    "count_ax, roi_ax, profit_ax, avg_roi, counts_and_roi_by_genre = viz.genre(hb_sm.copy())\n",
    "count_ax.set_title(\"High Budge Short Movie: Number of Movies vs Genre\")\n",
    "roi_ax.set_title(\"High Budget Short Movie:  ROI vs Genre\")\n",
    "profit_ax.set_title(\"High Budget Short Movies: Profit vs Genre\")\n",
    "print(\"Average ROI across all genres:\", avg_roi)\n",
    "counts_and_roi_by_genre"
   ]
  },
  {
   "cell_type": "code",
   "execution_count": null,
   "metadata": {},
   "outputs": [],
   "source": [
    "# For Long_low_budget_movies, genre\n",
    "count_ax, roi_ax,profit_ax, avg_roi, counts_and_roi_by_genre = viz.genre(lb_lm.copy())\n",
    "count_ax.set_title(\"Low Budge Long Movie: Number of Movies vs Genre\")\n",
    "roi_ax.set_title(\"Low Budget Long Movie:  ROI vs Genre\")\n",
    "profit_ax.set_title(\"Low Budget Long Movies: Profit vs Genre\")\n",
    "print(\"Average ROI across all genres:\", avg_roi)\n",
    "counts_and_roi_by_genre"
   ]
  },
  {
   "cell_type": "code",
   "execution_count": null,
   "metadata": {},
   "outputs": [],
   "source": [
    "# For short_low_budget_movies, genre\n",
    "count_ax, roi_ax, profit_ax, avg_roi, counts_and_roi_by_genre = viz.genre(lb_sm.copy())\n",
    "count_ax.set_title(\"Low Budge Short Movie: Number of Movies vs Genre\")\n",
    "roi_ax.set_title(\"Low Budget Short Movie:  ROI vs Genre\")\n",
    "profit_ax.set_title(\"Low Budget Short Movies: Profit vs Genre\")\n",
    "print(\"Average ROI across all genres:\", avg_roi)\n",
    "counts_and_roi_by_genre"
   ]
  },
  {
   "cell_type": "code",
   "execution_count": null,
   "metadata": {},
   "outputs": [],
   "source": [
    "# Studio\n",
    "boxplot = viz.data_to_plot(cleaned_data)\n",
    "boxplot.set_title(\"Overall: Studio\")"
   ]
  },
  {
   "cell_type": "code",
   "execution_count": null,
   "metadata": {},
   "outputs": [],
   "source": [
    "boxplot = viz.data_to_plot(lm)\n",
    "boxplot.set_title(\"Long Movies: Studio\")"
   ]
  },
  {
   "cell_type": "code",
   "execution_count": null,
   "metadata": {},
   "outputs": [],
   "source": [
    "boxplot = viz.data_to_plot(sm)\n",
    "boxplot.set_title(\"Short Movies: Studio\")"
   ]
  },
  {
   "cell_type": "code",
   "execution_count": null,
   "metadata": {},
   "outputs": [],
   "source": [
    "boxplot = viz.data_to_plot(hb)\n",
    "boxplot.set_title(\"High Budget Movies: Studio\")"
   ]
  },
  {
   "cell_type": "code",
   "execution_count": null,
   "metadata": {},
   "outputs": [],
   "source": [
    "boxplot = viz.data_to_plot(lb)\n",
    "boxplot.set_title(\"Low Budget Movies: Studio\")"
   ]
  },
  {
   "cell_type": "code",
   "execution_count": null,
   "metadata": {},
   "outputs": [],
   "source": [
    "boxplot = viz.data_to_plot(hb_lm)\n",
    "boxplot.set_title(\"High Budget Long Movies: Studio\")"
   ]
  },
  {
   "cell_type": "code",
   "execution_count": null,
   "metadata": {},
   "outputs": [],
   "source": [
    "boxplot = viz.data_to_plot(lb_sm)\n",
    "boxplot.set_title(\"Low Budget Short Movies: Studio\")"
   ]
  },
  {
   "cell_type": "code",
   "execution_count": null,
   "metadata": {},
   "outputs": [],
   "source": [
    "hb_lm[[\"original_title\",'studio','runtime_minutes','ROI','profit','averagerating','genres']].sort_values(by=['ROI'],ascending= False).head(10)"
   ]
  },
  {
   "cell_type": "code",
   "execution_count": null,
   "metadata": {},
   "outputs": [],
   "source": [
    "lb_sm[[\"original_title\",'studio','runtime_minutes','ROI','profit','averagerating','genres']].sort_values(by=['ROI'],ascending= False).head(10)"
   ]
  },
  {
   "cell_type": "markdown",
   "metadata": {},
   "source": [
    "## Conclusion\n"
   ]
  },
  {
   "cell_type": "code",
   "execution_count": null,
   "metadata": {},
   "outputs": [],
   "source": []
  }
 ],
 "metadata": {
  "kernelspec": {
   "display_name": "Python 3 (ipykernel)",
   "language": "python",
   "name": "python3"
  },
  "language_info": {
   "codemirror_mode": {
    "name": "ipython",
    "version": 3
   },
   "file_extension": ".py",
   "mimetype": "text/x-python",
   "name": "python",
   "nbconvert_exporter": "python",
   "pygments_lexer": "ipython3",
   "version": "3.6.4"
  }
 },
 "nbformat": 4,
 "nbformat_minor": 2
}
